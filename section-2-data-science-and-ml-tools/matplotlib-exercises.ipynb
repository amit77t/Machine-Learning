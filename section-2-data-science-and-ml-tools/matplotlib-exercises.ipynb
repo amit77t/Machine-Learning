{
  "cells": [
    {
      "cell_type": "markdown",
      "metadata": {
        "id": "bDN9M0jhSUab"
      },
      "source": [
        "# Matplotlib Practice\n",
        "\n",
        "This notebook offers a set of exercises to different tasks with Matplotlib.\n",
        "\n",
        "It should be noted there may be more than one different way to answer a question or complete an exercise.\n",
        "\n",
        "Different tasks will be detailed by comments or text.\n",
        "\n",
        "For further reference and resources, it's advised to check out the [Matplotlib documentation](https://matplotlib.org/3.1.1/contents.html).\n",
        "\n",
        "If you're stuck, don't forget, you can always search for a function, for example if you want to create a plot with `plt.subplots()`, search for [`plt.subplots()`](https://www.google.com/search?q=plt.subplots())."
      ]
    },
    {
      "cell_type": "code",
      "source": [
        "# Import and get matplotlib ready\n",
        "%matplotlib inline\n",
        "import matplotlib.pyplot as plt\n",
        "\n",
        "# Prepare data (create two lists of 5 numbers, X & y)\n",
        "X = [34, 77, 21, 54, 9]\n",
        "y = [9, 45, 89, 66, 4]\n",
        "\n",
        "# Setup figure and axes using plt.subplots()\n",
        "fig, ax = plt.subplots()\n",
        "\n",
        "# Add data (X, y) to axes\n",
        "ax.plot(X, y)\n",
        "\n",
        "# Customize plot by adding a title, xlabel and ylabel\n",
        "ax.set(title=\"Sample simple plot\",\n",
        "       xlabel=\"x-axis\",\n",
        "       ylabel=\"y-axis\")\n",
        "\n",
        "# Save the plot to file using fig.savefig()\n",
        "fig.savefig(\"../images/simple-plot.png\")"
      ],
      "metadata": {
        "id": "q8J8cVyMUPti"
      },
      "execution_count": null,
      "outputs": []
    },
    {
      "cell_type": "code",
      "execution_count": null,
      "metadata": {
        "id": "bmGLmIrmSUas"
      },
      "outputs": [],
      "source": [
        "# Import the pyplot module from matplotlib as plt and make sure\n",
        "# plots appear in the notebook using '%matplotlib inline'\n"
      ]
    },
    {
      "cell_type": "code",
      "execution_count": null,
      "metadata": {
        "id": "k0R6bzgGSUax"
      },
      "outputs": [],
      "source": [
        "# Create a simple plot using plt.plot()\n"
      ]
    },
    {
      "cell_type": "code",
      "execution_count": null,
      "metadata": {
        "id": "AlAlJSp4SUay"
      },
      "outputs": [],
      "source": [
        "# Plot a single Python list\n"
      ]
    },
    {
      "cell_type": "code",
      "execution_count": null,
      "metadata": {
        "id": "pid1YYBESUa2"
      },
      "outputs": [],
      "source": [
        "# Create two lists, one called X, one called y, each with 5 numbers in them\n"
      ]
    },
    {
      "cell_type": "code",
      "execution_count": null,
      "metadata": {
        "id": "_yWBqKaWSUa4"
      },
      "outputs": [],
      "source": [
        "# Plot X & y (the lists you've created)\n"
      ]
    },
    {
      "cell_type": "markdown",
      "metadata": {
        "id": "SrdMHZeISUa6"
      },
      "source": [
        "There's another way to create plots with Matplotlib, it's known as the object-orientated (OO) method. Let's try it."
      ]
    },
    {
      "cell_type": "code",
      "execution_count": null,
      "metadata": {
        "id": "v2OTYOetSUa7"
      },
      "outputs": [],
      "source": [
        "# Create a plot using plt.subplots()\n"
      ]
    },
    {
      "cell_type": "code",
      "execution_count": null,
      "metadata": {
        "id": "cRfMhmT9SUa8"
      },
      "outputs": [],
      "source": [
        "# Create a plot using plt.subplots() and then add X & y on the axes\n"
      ]
    },
    {
      "cell_type": "markdown",
      "metadata": {
        "id": "2sId-6vhSUa9"
      },
      "source": [
        "Now let's try a small matplotlib workflow."
      ]
    },
    {
      "cell_type": "code",
      "execution_count": null,
      "metadata": {
        "id": "0qHSHVLXSUa_"
      },
      "outputs": [],
      "source": [
        "# Import and get matplotlib ready\n",
        "\n",
        "\n",
        "# Prepare data (create two lists of 5 numbers, X & y)\n",
        "\n",
        "\n",
        "# Setup figure and axes using plt.subplots()\n",
        "\n",
        "\n",
        "# Add data (X, y) to axes\n",
        "\n",
        "\n",
        "# Customize plot by adding a title, xlabel and ylabel\n",
        "\n",
        "\n",
        "# Save the plot to file using fig.savefig()\n"
      ]
    },
    {
      "cell_type": "markdown",
      "metadata": {
        "id": "3-hoLb6_SUbA"
      },
      "source": [
        "Okay, this is a simple line plot, how about something a little different?\n",
        "\n",
        "To help us, we'll import NumPy."
      ]
    },
    {
      "cell_type": "code",
      "execution_count": null,
      "metadata": {
        "id": "c7TB-hHaSUbC"
      },
      "outputs": [],
      "source": [
        "# Import NumPy as np\n"
      ]
    },
    {
      "cell_type": "code",
      "execution_count": null,
      "metadata": {
        "id": "KClKQJ_kSUbD"
      },
      "outputs": [],
      "source": [
        "# Create an array of 100 evenly spaced numbers between 0 and 100 using NumPy and save it to variable X\n"
      ]
    },
    {
      "cell_type": "code",
      "execution_count": null,
      "metadata": {
        "id": "JN6TRKGSSUbE"
      },
      "outputs": [],
      "source": [
        "# Create a plot using plt.subplots() and plot X versus X^2 (X squared)\n"
      ]
    },
    {
      "cell_type": "markdown",
      "metadata": {
        "id": "twD4wAJKSUbF"
      },
      "source": [
        "We'll start with scatter plots."
      ]
    },
    {
      "cell_type": "code",
      "execution_count": null,
      "metadata": {
        "id": "TPWEsdwTSUbG"
      },
      "outputs": [],
      "source": [
        "# Create a scatter plot of X versus the exponential of X (np.exp(X))\n"
      ]
    },
    {
      "cell_type": "code",
      "execution_count": null,
      "metadata": {
        "id": "wjOpH3AGSUbH"
      },
      "outputs": [],
      "source": [
        "# Create a scatter plot of X versus np.sin(X)\n"
      ]
    },
    {
      "cell_type": "markdown",
      "metadata": {
        "id": "DiHQ7o_sSUbH"
      },
      "source": [
        "How about we try another type of plot? This time let's look at a bar plot. First we'll make some data."
      ]
    },
    {
      "cell_type": "code",
      "execution_count": null,
      "metadata": {
        "id": "Ebb1DJtTSUbI"
      },
      "outputs": [],
      "source": [
        "# Create a Python dictionary of 3 of your favourite foods with\n",
        "# The keys of the dictionary should be the food name and the values their price\n"
      ]
    },
    {
      "cell_type": "code",
      "execution_count": null,
      "metadata": {
        "id": "x5Jym0rWSUbI"
      },
      "outputs": [],
      "source": [
        "# Create a bar graph where the x-axis is the keys of the dictionary\n",
        "# and the y-axis is the values of the dictionary\n",
        "\n",
        "\n",
        "# Add a title, xlabel and ylabel to the plot\n"
      ]
    },
    {
      "cell_type": "code",
      "execution_count": null,
      "metadata": {
        "id": "JUw35C09SUbI"
      },
      "outputs": [],
      "source": [
        "# Make the same plot as above, except this time make the bars go horizontal\n"
      ]
    },
    {
      "cell_type": "markdown",
      "metadata": {
        "id": "GIY2UwrNSUbI"
      },
      "source": [
        "All this food plotting is making me hungry. But we've got a couple of plots to go.\n",
        "\n",
        "Let's see a histogram."
      ]
    },
    {
      "cell_type": "code",
      "execution_count": null,
      "metadata": {
        "id": "-1pJ5CZKSUbJ"
      },
      "outputs": [],
      "source": [
        "# Create a random NumPy array of 1000 normally distributed numbers using NumPy and save it to X\n",
        "\n",
        "\n",
        "# Create a histogram plot of X\n"
      ]
    },
    {
      "cell_type": "code",
      "execution_count": null,
      "metadata": {
        "id": "qB__jZKsSUbJ"
      },
      "outputs": [],
      "source": [
        "# Create a NumPy array of 1000 random numbers and save it to X\n",
        "\n",
        "\n",
        "# Create a histogram plot of X\n"
      ]
    },
    {
      "cell_type": "markdown",
      "metadata": {
        "id": "OH1p5cU0SUbJ"
      },
      "source": [
        "Notice how the distributions (spread of data) are different. Why do they differ?\n",
        "\n",
        "What else can you find out about the normal distribution?\n",
        "\n",
        "Can you think of any other kinds of data which may be normally distributed?\n",
        "\n",
        "These questions aren't directly related to plotting or Matplotlib but they're helpful to think of.\n",
        "\n",
        "Now let's try make some subplots. A subplot is another name for a figure with multiple plots on it."
      ]
    },
    {
      "cell_type": "code",
      "execution_count": null,
      "metadata": {
        "id": "zomMeRBvSUbJ"
      },
      "outputs": [],
      "source": [
        "# Create an empty subplot with 2 rows and 2 columns (4 subplots total)\n"
      ]
    },
    {
      "cell_type": "markdown",
      "metadata": {
        "id": "57NYdY_oSUbK"
      },
      "source": [
        "Notice how the subplot has multiple figures. Now let's add data to each axes."
      ]
    },
    {
      "cell_type": "code",
      "execution_count": null,
      "metadata": {
        "id": "r1-ufSYPSUbK"
      },
      "outputs": [],
      "source": [
        "# Create the same plot as above with 2 rows and 2 columns and figsize of (10, 5)\n",
        "\n",
        "\n",
        "# Plot X versus X/2 on the top left axes\n",
        "\n",
        "\n",
        "# Plot a scatter plot of 10 random numbers on each axis on the top right subplot\n",
        "\n",
        "\n",
        "# Plot a bar graph of the favourite food keys and values on the bottom left subplot\n",
        "\n",
        "\n",
        "# Plot a histogram of 1000 random normally distributed numbers on the bottom right subplot\n"
      ]
    },
    {
      "cell_type": "markdown",
      "metadata": {
        "id": "nPuJPMe3SUbL"
      },
      "source": [
        "Woah. There's a lot going on there.\n",
        "\n",
        "Now we've seen how to plot with Matplotlib and data directly. Let's practice using Matplotlib to plot with pandas.\n",
        "\n",
        "First we'll need to import pandas and create a DataFrame work with."
      ]
    },
    {
      "cell_type": "code",
      "execution_count": null,
      "metadata": {
        "id": "5_SGIo9uSUbL"
      },
      "outputs": [],
      "source": [
        "# Import pandas as pd\n"
      ]
    },
    {
      "cell_type": "code",
      "execution_count": null,
      "metadata": {
        "id": "f6sDv1YkSUbL"
      },
      "outputs": [],
      "source": [
        "# Import the '../data/car-sales.csv' into a DataFame called car_sales and view\n"
      ]
    },
    {
      "cell_type": "code",
      "execution_count": null,
      "metadata": {
        "id": "SnWDl2ldSUbO"
      },
      "outputs": [],
      "source": [
        "# Try to plot the 'Price' column using the plot() function\n"
      ]
    },
    {
      "cell_type": "markdown",
      "metadata": {
        "id": "znBDuS9SSUbO"
      },
      "source": [
        "Why doesn't it work?\n",
        "\n",
        "Hint: It's not numeric data.\n",
        "\n",
        "In the process of turning it to numeric data, let's create another column which adds the total amount of sales and another one which shows what date the car was sold.\n",
        "\n",
        "Hint: To add a column up cumulatively, look up the cumsum() function. And to create a column of dates, look up the date_range() function."
      ]
    },
    {
      "cell_type": "code",
      "execution_count": null,
      "metadata": {
        "id": "bNhLMKqVSUbP"
      },
      "outputs": [],
      "source": [
        "# Remove the symbols, the final two numbers from the 'Price' column and convert it to numbers\n"
      ]
    },
    {
      "cell_type": "code",
      "execution_count": null,
      "metadata": {
        "id": "MtwaASKkSUbP"
      },
      "outputs": [],
      "source": [
        "# Add a column called 'Total Sales' to car_sales which cumulatively adds the 'Price' column\n",
        "\n",
        "\n",
        "# Add a column called 'Sale Date' which lists a series of successive dates starting from today (your today)\n",
        "\n",
        "# View the car_sales DataFrame\n"
      ]
    },
    {
      "cell_type": "markdown",
      "metadata": {
        "id": "WKddxNtuSUbQ"
      },
      "source": [
        "Now we've got a numeric column (`Total Sales`) and a dates column (`Sale Date`), let's visualize them."
      ]
    },
    {
      "cell_type": "code",
      "execution_count": null,
      "metadata": {
        "id": "ZUdq9cWmSUbQ"
      },
      "outputs": [],
      "source": [
        "# Use the plot() function to plot the 'Sale Date' column versus the 'Total Sales' column\n"
      ]
    },
    {
      "cell_type": "code",
      "execution_count": null,
      "metadata": {
        "id": "hIXnMiotSUbQ"
      },
      "outputs": [],
      "source": [
        "# Convert the 'Price' column to the integers\n",
        "\n",
        "\n",
        "# Create a scatter plot of the 'Odometer (KM)' and 'Price' column using the plot() function\n"
      ]
    },
    {
      "cell_type": "code",
      "execution_count": null,
      "metadata": {
        "id": "mb4ZfQwFSUbb"
      },
      "outputs": [],
      "source": [
        "# Create a NumPy array of random numbers of size (10, 4) and save it to X\n",
        "\n",
        "\n",
        "# Turn the NumPy array X into a DataFrame with columns called ['a', 'b', 'c', 'd']\n",
        "\n",
        "\n",
        "# Create a bar graph of the DataFrame\n"
      ]
    },
    {
      "cell_type": "code",
      "execution_count": null,
      "metadata": {
        "id": "-DFtc_E4SUbd"
      },
      "outputs": [],
      "source": [
        "# Create a bar graph of the 'Make' and 'Odometer (KM)' columns in the car_sales DataFrame\n"
      ]
    },
    {
      "cell_type": "code",
      "execution_count": null,
      "metadata": {
        "id": "JHEbR5ZTSUbd"
      },
      "outputs": [],
      "source": [
        "# Create a histogram of the 'Odometer (KM)' column\n"
      ]
    },
    {
      "cell_type": "code",
      "execution_count": null,
      "metadata": {
        "id": "JBZn7alKSUbe"
      },
      "outputs": [],
      "source": [
        "# Create a histogram of the 'Price' column with 20 bins\n"
      ]
    },
    {
      "cell_type": "markdown",
      "metadata": {
        "id": "AzJ2bC5uSUbf"
      },
      "source": [
        "Now we've seen a few examples of plotting directly from DataFrames using the `car_sales` dataset.\n",
        "\n",
        "Let's try using a different dataset."
      ]
    },
    {
      "cell_type": "code",
      "execution_count": null,
      "metadata": {
        "id": "PUaX9q8LSUbf"
      },
      "outputs": [],
      "source": [
        "# Import \"../data/heart-disease.csv\" and save it to the variable \"heart_disease\"\n"
      ]
    },
    {
      "cell_type": "code",
      "execution_count": null,
      "metadata": {
        "id": "PaRJS-a1SUbg"
      },
      "outputs": [],
      "source": [
        "# View the first 10 rows of the heart_disease DataFrame\n"
      ]
    },
    {
      "cell_type": "code",
      "execution_count": null,
      "metadata": {
        "id": "yqeI1VPBSUbg"
      },
      "outputs": [],
      "source": [
        "# Create a histogram of the \"age\" column with 50 bins\n"
      ]
    },
    {
      "cell_type": "code",
      "execution_count": null,
      "metadata": {
        "id": "yvesb8e9SUbh"
      },
      "outputs": [],
      "source": [
        "# Call plot.hist() on the heart_disease DataFrame and toggle the\n",
        "# \"subplots\" parameter to True\n"
      ]
    },
    {
      "cell_type": "markdown",
      "metadata": {
        "id": "VzpvBIbCSUbi"
      },
      "source": [
        "That plot looks pretty squished. Let's change the figsize."
      ]
    },
    {
      "cell_type": "code",
      "execution_count": null,
      "metadata": {
        "id": "BYz_p6IzSUbi"
      },
      "outputs": [],
      "source": [
        "# Call the same line of code from above except change the \"figsize\" parameter\n",
        "# to be (10, 30)\n"
      ]
    },
    {
      "cell_type": "markdown",
      "metadata": {
        "id": "3xID_hKfSUbj"
      },
      "source": [
        "Now let's try comparing two variables versus the target variable.\n",
        "\n",
        "More specifially we'll see how age and cholesterol combined effect the target in **patients over 50 years old**.\n",
        "\n",
        "For this next challenge, we're going to be replicating the following plot:\n",
        "\n",
        "<img src=\"https://github.com/mrdbourke/zero-to-mastery-ml/blob/master/images/matplotlib-heart-disease-chol-age-plot.png?raw=1\"/>"
      ]
    },
    {
      "cell_type": "code",
      "execution_count": null,
      "metadata": {
        "id": "lCJmIDBuSUbk"
      },
      "outputs": [],
      "source": [
        "# Replicate the above plot in whichever way you see fit\n",
        "\n",
        "# Note: The method below is only one way of doing it, yours might be\n",
        "# slightly different\n",
        "\n",
        "# Create DataFrame with patients over 50 years old\n",
        "\n",
        "\n",
        "# Create the plot\n",
        "\n",
        "\n",
        "# Plot the data\n",
        "\n",
        "\n",
        "# Customize the plot\n",
        "\n",
        "\n",
        "# Add a meanline\n"
      ]
    },
    {
      "cell_type": "markdown",
      "metadata": {
        "id": "cIyEWSE_SUbk"
      },
      "source": [
        "Beatiful, now you've created a plot of two different variables, let's change the style."
      ]
    },
    {
      "cell_type": "code",
      "execution_count": null,
      "metadata": {
        "id": "vI8QdQaDSUbn"
      },
      "outputs": [],
      "source": [
        "# Check what styles are available under plt\n"
      ]
    },
    {
      "cell_type": "code",
      "execution_count": null,
      "metadata": {
        "id": "407RnggXSUbo"
      },
      "outputs": [],
      "source": [
        "# Change the style to use \"seaborn-whitegrid\"\n"
      ]
    },
    {
      "cell_type": "markdown",
      "metadata": {
        "id": "Z7Cam1anSUbp"
      },
      "source": [
        "Now the style has been changed, we'll replot the same figure from above and see what it looks like.\n",
        "\n",
        "If you've changed the style correctly, it should look like the following:\n",
        "<img src=\"https://github.com/mrdbourke/zero-to-mastery-ml/blob/master/images/matplotlib-heart-disease-chol-age-plot-seaborn-whitegrid.png?raw=1\"/>\n"
      ]
    },
    {
      "cell_type": "code",
      "execution_count": null,
      "metadata": {
        "id": "WIR4kg2kSUbp"
      },
      "outputs": [],
      "source": [
        "# Reproduce the same figure as above with the \"seaborn-whitegrid\" style\n",
        "\n",
        "# Create the plot\n",
        "\n",
        "\n",
        "# Plot the data\n",
        "\n",
        "\n",
        "# Customize the plot\n",
        "\n",
        "\n",
        "# Add a meanline\n"
      ]
    },
    {
      "cell_type": "markdown",
      "metadata": {
        "id": "ICq1oL0BSUbr"
      },
      "source": [
        "Wonderful, you've changed the style of the plots and the figure is looking different but the dots aren't a very good colour.\n",
        "\n",
        "Let's change the `cmap` parameter of `scatter()` as well as the `color` parameter of `axhline()` to fix it.\n",
        "\n",
        "Completing this step correctly should result in a figure which looks like this:\n",
        "<img src=\"https://github.com/mrdbourke/zero-to-mastery-ml/blob/master/images/matplotlib-heart-disease-chol-age-plot-cmap-change.png?raw=1\"/>"
      ]
    },
    {
      "cell_type": "code",
      "execution_count": null,
      "metadata": {
        "id": "Zwe3SuVVSUbs"
      },
      "outputs": [],
      "source": [
        "# Replot the same figure as above except change the \"cmap\" parameter\n",
        "# of scatter() to \"winter\"\n",
        "# Also change the \"color\" parameter of axhline() to \"red\"\n",
        "\n",
        "# Create the plot\n",
        "\n",
        "\n",
        "# Plot the data\n",
        "\n",
        "\n",
        "# Customize the plot\n",
        "\n",
        "\n",
        "# Add a meanline\n"
      ]
    },
    {
      "cell_type": "markdown",
      "metadata": {
        "id": "-MRafgyfSUbs"
      },
      "source": [
        "Beautiful! Now our figure has an upgraded color scheme let's save it to file."
      ]
    },
    {
      "cell_type": "code",
      "execution_count": null,
      "metadata": {
        "id": "TKOOroD_SUbs"
      },
      "outputs": [],
      "source": [
        "# Save the current figure using savefig(), the file name can be anything you want\n"
      ]
    },
    {
      "cell_type": "code",
      "execution_count": null,
      "metadata": {
        "id": "aDoexWYBSUbt"
      },
      "outputs": [],
      "source": [
        "# Reset the figure by calling plt.subplots()\n"
      ]
    },
    {
      "cell_type": "markdown",
      "metadata": {
        "id": "JOXIzJVbSUbu"
      },
      "source": [
        "## Extensions\n",
        "\n",
        "For more exercises, check out the [Matplotlib tutorials page](https://matplotlib.org/3.1.1/tutorials/index.html). A good practice would be to read through it and for the parts you find interesting, add them into the end of this notebook.\n",
        "\n",
        "The next place you could go is the [Stack Overflow page for the top questions and answers for Matplotlib](https://stackoverflow.com/questions/tagged/matplotlib?sort=MostVotes&edited=true). Often, you'll find some of the most common and useful Matplotlib functions here. Don't forget to play around with the Stack Overflow filters! You'll likely find something helpful here.\n",
        "\n",
        "Finally, as always, remember, the best way to learn something new is to try it. And try it relentlessly. Always be asking yourself, \"is there a better way this data could be visualized so it's easier to understand?\""
      ]
    }
  ],
  "metadata": {
    "kernelspec": {
      "display_name": "Python 3",
      "language": "python",
      "name": "python3"
    },
    "language_info": {
      "codemirror_mode": {
        "name": "ipython",
        "version": 3
      },
      "file_extension": ".py",
      "mimetype": "text/x-python",
      "name": "python",
      "nbconvert_exporter": "python",
      "pygments_lexer": "ipython3",
      "version": "3.6.9"
    },
    "colab": {
      "provenance": []
    }
  },
  "nbformat": 4,
  "nbformat_minor": 0
}